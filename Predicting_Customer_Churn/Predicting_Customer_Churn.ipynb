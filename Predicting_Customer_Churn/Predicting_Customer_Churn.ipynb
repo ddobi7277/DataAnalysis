{
 "cells": [
  {
   "cell_type": "code",
   "execution_count": null,
   "id": "6a40756e",
   "metadata": {
    "lines_to_next_cell": 2
   },
   "outputs": [],
   "source": [
    "import pandas as pd\n",
    "import numpy as np \n",
    "import matplotlib.pyplot as plt\n",
    "import seaborn as sbn\n",
    "from sklearn.model_selection import train_test_split\n",
    "from sklearn.tree import DecisionTreeClassifier\n",
    "from sklearn.ensemble import RandomForestClassifier\n",
    "from sklearn.model_selection import GridSearchCV \n",
    "from xgboost import XGBClassifier\n",
    "from sklearn.metrics import recall_score, precision_score, f1_score, accuracy_score,roc_auc_score #scores metrics measures\n",
    "from sklearn.metrics import confusion_matrix, ConfusionMatrixDisplay #matrix confusion\n",
    "from xgboost import plot_importance\n",
    "import joblib\n",
    "import shap"
   ]
  },
  {
   "cell_type": "code",
   "execution_count": null,
   "id": "7af30ceb",
   "metadata": {},
   "outputs": [],
   "source": [
    "data= pd.read_csv('customer_data.csv')"
   ]
  },
  {
   "cell_type": "markdown",
   "id": "4a2b4cc9",
   "metadata": {},
   "source": [
    "Starting realizing a EDA"
   ]
  },
  {
   "cell_type": "code",
   "execution_count": null,
   "id": "55f9cc3e",
   "metadata": {},
   "outputs": [],
   "source": [
    "data.head()"
   ]
  },
  {
   "cell_type": "code",
   "execution_count": null,
   "id": "af3ddfac",
   "metadata": {},
   "outputs": [],
   "source": [
    "data.dtypes"
   ]
  },
  {
   "cell_type": "code",
   "execution_count": null,
   "id": "20e6bc79",
   "metadata": {},
   "outputs": [],
   "source": [
    "data.info()"
   ]
  },
  {
   "cell_type": "code",
   "execution_count": null,
   "id": "6e49ea43",
   "metadata": {},
   "outputs": [],
   "source": [
    "data.describe()"
   ]
  },
  {
   "cell_type": "markdown",
   "id": "cce89419",
   "metadata": {},
   "source": [
    "Checking the balance of the data"
   ]
  },
  {
   "cell_type": "code",
   "execution_count": null,
   "id": "b352fdbe",
   "metadata": {},
   "outputs": [],
   "source": [
    "data['churn'].value_counts()"
   ]
  },
  {
   "cell_type": "code",
   "execution_count": null,
   "id": "ba5f6cbc",
   "metadata": {},
   "outputs": [],
   "source": [
    "plt.figure(figsize=(4,2)) \n",
    "sbn.histplot(data['churn'],shrink=0.4)\n",
    "plt.title('Churn Customer')\n",
    "plt.show()"
   ]
  },
  {
   "cell_type": "markdown",
   "id": "3174b940",
   "metadata": {},
   "source": [
    "We can see cleary that there are more customer that don't churn so the data is imbalanced"
   ]
  },
  {
   "cell_type": "markdown",
   "id": "4302c9be",
   "metadata": {},
   "source": [
    "Checking for duplicates"
   ]
  },
  {
   "cell_type": "code",
   "execution_count": null,
   "id": "4ebd0a55",
   "metadata": {},
   "outputs": [],
   "source": [
    "data.duplicated().sum() #there are not duplicates"
   ]
  },
  {
   "cell_type": "code",
   "execution_count": null,
   "id": "752053d7",
   "metadata": {},
   "outputs": [],
   "source": [
    "#Checking for missing values\n",
    "data.isnull().sum() #There are no missing values"
   ]
  },
  {
   "cell_type": "markdown",
   "id": "841c2284",
   "metadata": {},
   "source": [
    "Creating a copy of the data but dropping the columns recordID and customer_id"
   ]
  },
  {
   "cell_type": "code",
   "execution_count": null,
   "id": "355ea0e9",
   "metadata": {},
   "outputs": [],
   "source": [
    "df= data.drop(['customer_id','recordID'],axis=1)"
   ]
  },
  {
   "cell_type": "markdown",
   "id": "8d2b886c",
   "metadata": {},
   "source": [
    "Checking the diferences of customer who churn and not churn"
   ]
  },
  {
   "cell_type": "code",
   "execution_count": null,
   "id": "01e8848e",
   "metadata": {
    "lines_to_next_cell": 1
   },
   "outputs": [],
   "source": [
    "def showS():\n",
    "    for i in data.columns:\n",
    "        print('Column:'+i+'\\n')\n",
    "        print(data.groupby('churn')[i].describe())\n",
    "        print('\\n---------------------------------------------------------------------------------------')"
   ]
  },
  {
   "cell_type": "code",
   "execution_count": null,
   "id": "103b259f",
   "metadata": {
    "lines_to_next_cell": 2
   },
   "outputs": [],
   "source": [
    "showS()"
   ]
  },
  {
   "cell_type": "markdown",
   "id": "dc412212",
   "metadata": {},
   "source": [
    "Feature Engineering"
   ]
  },
  {
   "cell_type": "markdown",
   "id": "dfa171b2",
   "metadata": {},
   "source": [
    "I will create those new columns to be able to drop all those columns , and like in the function showS() we can see that they're close each other so if I sum and delete those columns\n",
    "will be more legible and easy to analyse."
   ]
  },
  {
   "cell_type": "code",
   "execution_count": null,
   "id": "ce54982b",
   "metadata": {},
   "outputs": [],
   "source": [
    "df['total_charge']= df['total_day_charge']+df['total_eve_charge']+df['total_night_charge']+df['total_intl_charge'] "
   ]
  },
  {
   "cell_type": "code",
   "execution_count": null,
   "id": "fd187336",
   "metadata": {},
   "outputs": [],
   "source": [
    "df.groupby('churn')['total_charge'].describe() #The customers that churned has the highest mean of total charge"
   ]
  },
  {
   "cell_type": "code",
   "execution_count": null,
   "id": "72456b5f",
   "metadata": {},
   "outputs": [],
   "source": [
    "df['total_minutes']= df['total_day_minutes']+df['total_eve_minutes']+df['total_night_minutes']+df['total_intl_minutes']"
   ]
  },
  {
   "cell_type": "code",
   "execution_count": null,
   "id": "84f10a90",
   "metadata": {},
   "outputs": [],
   "source": [
    "df.groupby('churn')['total_minutes'].describe()  #The customers that churned has the highest mean of total minutes"
   ]
  },
  {
   "cell_type": "code",
   "execution_count": null,
   "id": "71d488bc",
   "metadata": {},
   "outputs": [],
   "source": [
    "df['total_calls']= df['total_day_calls']+df['total_eve_calls']+df['total_night_calls']+df['total_intl_calls']"
   ]
  },
  {
   "cell_type": "code",
   "execution_count": null,
   "id": "b3fa2cd6",
   "metadata": {},
   "outputs": [],
   "source": [
    "df.groupby('churn')['total_calls'].describe() #They're pretty close esach others in the total of calls"
   ]
  },
  {
   "cell_type": "markdown",
   "id": "972e82ed",
   "metadata": {},
   "source": [
    "Now we drop the columns that we don't need anymore"
   ]
  },
  {
   "cell_type": "code",
   "execution_count": null,
   "id": "919d3547",
   "metadata": {
    "lines_to_next_cell": 2
   },
   "outputs": [],
   "source": [
    "df= df.drop(['total_day_minutes','total_day_calls',\n",
    "             'total_day_charge','total_eve_minutes',\n",
    "             'total_eve_calls','total_eve_charge',\n",
    "             'total_night_minutes','total_night_calls',\n",
    "             'total_night_charge','total_intl_minutes',\n",
    "             'total_intl_calls','total_intl_charge','state'],axis=1)"
   ]
  },
  {
   "cell_type": "code",
   "execution_count": null,
   "id": "ca49c340",
   "metadata": {},
   "outputs": [],
   "source": [
    "df.groupby('churn')['number_customer_service_calls'].describe()  #The customers that churned has the highest mean of customer service calls"
   ]
  },
  {
   "cell_type": "code",
   "execution_count": null,
   "id": "e5239484",
   "metadata": {},
   "outputs": [],
   "source": [
    "df.groupby('churn')['number_vmail_messages'].describe()   #The customers that churned has the lowest mean of video mail messages"
   ]
  },
  {
   "cell_type": "markdown",
   "id": "97ad9b06",
   "metadata": {},
   "source": [
    "Now it's time to encode the variables "
   ]
  },
  {
   "cell_type": "markdown",
   "id": "de79a55c",
   "metadata": {},
   "source": [
    "Encoding categorical variables"
   ]
  },
  {
   "cell_type": "code",
   "execution_count": null,
   "id": "fcd90aee",
   "metadata": {
    "lines_to_next_cell": 2
   },
   "outputs": [],
   "source": [
    "df['international_plan'] = np.where(df['international_plan'] == 'no',0,1)\n",
    "df['voice_mail_plan'] = np.where(df['voice_mail_plan'] == 'no',0,1)\n",
    "df['churn']= np.where(df['churn'] == 'no',0,1)"
   ]
  },
  {
   "cell_type": "markdown",
   "id": "b8208e16",
   "metadata": {
    "lines_to_next_cell": 2
   },
   "source": [
    "Checking the relationships between the features"
   ]
  },
  {
   "cell_type": "code",
   "execution_count": null,
   "id": "0bb37b0e",
   "metadata": {
    "lines_to_next_cell": 2
   },
   "outputs": [],
   "source": [
    "sbn.pairplot(df)\n",
    "plt.title('Pairplot')\n",
    "plt.show()"
   ]
  },
  {
   "cell_type": "code",
   "execution_count": null,
   "id": "6cf1f68c",
   "metadata": {
    "lines_to_next_cell": 2
   },
   "outputs": [],
   "source": [
    "plt.figure(figsize=(16, 9))\n",
    "heatmap = sbn.heatmap(df.corr(), vmin=-1, vmax=1, annot=True, cmap=sbn.color_palette(\"vlag\", as_cmap=True))\n",
    "heatmap.set_title('Correlation Heatmap', fontdict={'fontsize':14}, pad=12)"
   ]
  },
  {
   "cell_type": "code",
   "execution_count": null,
   "id": "7e787891",
   "metadata": {
    "lines_to_next_cell": 2
   },
   "outputs": [],
   "source": [
    "from sklearn.feature_selection import RFE"
   ]
  },
  {
   "cell_type": "markdown",
   "id": "cb9a07a7",
   "metadata": {},
   "source": [
    "We separate the targeted variable in y and the predictive features in X, like the decision tree and the random forest are robust against clase imbalance i don have to do anything else"
   ]
  },
  {
   "cell_type": "code",
   "execution_count": null,
   "id": "d0846e60",
   "metadata": {},
   "outputs": [],
   "source": [
    "X= df.drop('churn',axis=1)\n",
    "y= df['churn']"
   ]
  },
  {
   "cell_type": "code",
   "execution_count": null,
   "id": "b5434700",
   "metadata": {
    "lines_to_next_cell": 2
   },
   "outputs": [],
   "source": [
    "modelTree = DecisionTreeClassifier(random_state=42)"
   ]
  },
  {
   "cell_type": "code",
   "execution_count": null,
   "id": "4ff022ce",
   "metadata": {
    "lines_to_next_cell": 2
   },
   "outputs": [],
   "source": [
    "X_tr,X_test,y_tr,y_test = train_test_split(X,y,test_size= 0.2 , random_state= 0) # here we split the data in 80/20 , we've got the 20 of test"
   ]
  },
  {
   "cell_type": "code",
   "execution_count": null,
   "id": "f4b3ec1e",
   "metadata": {},
   "outputs": [],
   "source": [
    "X_train,X_validation,y_train,y_validation = train_test_split(X_tr,y_tr,random_state= 0, stratify= y_tr,test_size= 0.2) # here we used the restant data and split it in 60/20"
   ]
  },
  {
   "cell_type": "markdown",
   "id": "0a3a0591",
   "metadata": {},
   "source": [
    "1 Using DecisionTreeClassifier"
   ]
  },
  {
   "cell_type": "code",
   "execution_count": null,
   "id": "47665334",
   "metadata": {},
   "outputs": [],
   "source": [
    "modelTree.fit(X_train,y_train)"
   ]
  },
  {
   "cell_type": "markdown",
   "id": "628cc020",
   "metadata": {},
   "source": [
    "We get the predictions "
   ]
  },
  {
   "cell_type": "code",
   "execution_count": null,
   "id": "313b5c0a",
   "metadata": {
    "lines_to_next_cell": 1
   },
   "outputs": [],
   "source": [
    "pred = modelTree.predict(X_validation)"
   ]
  },
  {
   "cell_type": "code",
   "execution_count": null,
   "id": "e7aa2f4f",
   "metadata": {},
   "outputs": [],
   "source": [
    "#Function to get the scores\n",
    "def scoresClassifier(pred,d_test):\n",
    "\n",
    "         print('Accuracy: {0}%'.format(round(accuracy_score(d_test,pred)*100,2)))\n",
    "\n",
    "         # Print your precision score.\n",
    "\n",
    "         ### YOUR CODE HERE ###\n",
    "         print('Precision: {0}%'.format(round(precision_score(d_test,pred)*100,2)))\n",
    "\n",
    "         # Print your recall score.\n",
    "         print('Recall: {0}%'.format(round(recall_score(d_test,pred)*100,2)))\n",
    "\n",
    "         # Print your f1 score.\n",
    "         print('F1: {0}%'.format(round(f1_score(d_test,pred)*100,2)))"
   ]
  },
  {
   "cell_type": "code",
   "execution_count": null,
   "id": "a8d5d0a0",
   "metadata": {},
   "outputs": [],
   "source": []
  },
  {
   "cell_type": "code",
   "execution_count": null,
   "id": "2c00bc7a",
   "metadata": {
    "lines_to_next_cell": 1
   },
   "outputs": [],
   "source": [
    "scoresClassifier(pred,y_validation)"
   ]
  },
  {
   "cell_type": "code",
   "execution_count": null,
   "id": "c001a706",
   "metadata": {},
   "outputs": [],
   "source": [
    "#Function to see the confussion matrix\n",
    "def  confuMatrix_plot(model,x_data_test,y_data_test):\n",
    "                    \n",
    "                     pred= model.predict(x_data_test)\n",
    "\n",
    "                     cm = confusion_matrix(y_data_test, pred)\n",
    "\n",
    "                     # Create the display for your confusion matrix.\n",
    "\n",
    "                     disp = ConfusionMatrixDisplay(confusion_matrix=cm, display_labels=model.classes_)\n",
    "\n",
    "                     # Plot the visual in-line.                     \n",
    "                     disp.plot(values_format='')  # `values_format=''` suppresses scientific notation"
   ]
  },
  {
   "cell_type": "code",
   "execution_count": null,
   "id": "c1552d2f",
   "metadata": {
    "lines_to_next_cell": 1
   },
   "outputs": [],
   "source": [
    "confuMatrix_plot(modelTree,X_validation,y_validation)"
   ]
  },
  {
   "cell_type": "code",
   "execution_count": null,
   "id": "3b317ddf",
   "metadata": {
    "lines_to_next_cell": 1
   },
   "outputs": [],
   "source": [
    "def get_test_scores(model_name:str, preds, y_test_data,model):\n",
    "    '''\n",
    "    Generate a table of test scores.\n",
    "    In:\n",
    "        model_name (string): Your choice: how the model will be named in the output table\n",
    "        preds: numpy array of test predictions\n",
    "        y_test_data: numpy array of y_test data\n",
    "\n",
    "    Out:\n",
    "        table: a pandas df of precision, recall, f1, and accuracy scores for your model\n",
    "    '''\n",
    "    aucu= round(roc_auc_score(y_test_data,preds),5)\n",
    "    accuracy = round(accuracy_score(y_test_data, preds),5)\n",
    "    precision = round(precision_score(y_test_data, preds),5)\n",
    "    recall = round(recall_score(y_test_data, preds),5)\n",
    "    f1 = round(f1_score(y_test_data, preds),5)\n",
    "\n",
    "    table = pd.DataFrame({'Model': [model_name],\n",
    "                          'Precision': [precision],\n",
    "                          'Recall': [recall],\n",
    "                          'F1': [f1],\n",
    "                          'Accuracy': [accuracy],\n",
    "                          'Auc': [aucu]\n",
    "                        })\n",
    "\n",
    "    return table"
   ]
  },
  {
   "cell_type": "markdown",
   "id": "3ddf6fb5",
   "metadata": {},
   "source": [
    "Now we validate the results"
   ]
  },
  {
   "cell_type": "code",
   "execution_count": null,
   "id": "025f9aed",
   "metadata": {},
   "outputs": [],
   "source": [
    "results= get_test_scores('DecissionTree',pred,y_validation,modelTree)\n",
    "results"
   ]
  },
  {
   "cell_type": "markdown",
   "id": "75aa5a31",
   "metadata": {},
   "source": [
    "2 Random Forest Classifier"
   ]
  },
  {
   "cell_type": "code",
   "execution_count": null,
   "id": "6adebed9",
   "metadata": {},
   "outputs": [],
   "source": [
    "modelRandomForest= RandomForestClassifier(random_state=0)"
   ]
  },
  {
   "cell_type": "code",
   "execution_count": null,
   "id": "d602aa82",
   "metadata": {},
   "outputs": [],
   "source": [
    "modelRandomForest.fit(X_train, y_train)"
   ]
  },
  {
   "cell_type": "code",
   "execution_count": null,
   "id": "f5eea0a8",
   "metadata": {},
   "outputs": [],
   "source": [
    "results= pd.concat([results,get_test_scores('RandomForestClassifier',modelRandomForest.predict(X_validation),y_validation,modelRandomForest)],axis= 0)"
   ]
  },
  {
   "cell_type": "code",
   "execution_count": null,
   "id": "ceed30b9",
   "metadata": {},
   "outputs": [],
   "source": [
    "confuMatrix_plot(modelRandomForest,X_validation,y_validation)"
   ]
  },
  {
   "cell_type": "markdown",
   "id": "ed4ce963",
   "metadata": {},
   "source": [
    "3 Models with Cross Validation and Tuning"
   ]
  },
  {
   "cell_type": "markdown",
   "id": "91c396e6",
   "metadata": {},
   "source": [
    "Decission Tree CV"
   ]
  },
  {
   "cell_type": "code",
   "execution_count": null,
   "id": "38588734",
   "metadata": {},
   "outputs": [],
   "source": [
    "cv_dt_params = {'max_depth':[4,5,6,7,8,9,10,11,12,15,20,30,40,50],\n",
    "             'min_samples_leaf': [2, 5, 10, 20, 50]}"
   ]
  },
  {
   "cell_type": "code",
   "execution_count": null,
   "id": "5e57ac2f",
   "metadata": {
    "lines_to_next_cell": 2
   },
   "outputs": [],
   "source": [
    "scoring = ['accuracy', 'precision', 'recall', 'f1']"
   ]
  },
  {
   "cell_type": "code",
   "execution_count": null,
   "id": "417d63d5",
   "metadata": {},
   "outputs": [],
   "source": [
    "DecisionTreeModel_cv= GridSearchCV(modelTree,cv_dt_params,scoring= scoring,cv= 5,refit='f1') #Tunning the model"
   ]
  },
  {
   "cell_type": "code",
   "execution_count": null,
   "id": "2503b388",
   "metadata": {},
   "outputs": [],
   "source": [
    "DecisionTreeModel_cv.fit(X_train,y_train) "
   ]
  },
  {
   "cell_type": "code",
   "execution_count": null,
   "id": "b15a3154",
   "metadata": {},
   "outputs": [],
   "source": [
    "pred_df_cv= DecisionTreeModel_cv.best_estimator_.predict(X_validation) #Getting the predictions with the best estimator"
   ]
  },
  {
   "cell_type": "code",
   "execution_count": null,
   "id": "e5facf90",
   "metadata": {},
   "outputs": [],
   "source": [
    "results= pd.concat([results,get_test_scores('DecissionTree_CV',pred_df_cv,y_validation,DecisionTreeModel_cv)],axis= 0)"
   ]
  },
  {
   "cell_type": "code",
   "execution_count": null,
   "id": "54aa763b",
   "metadata": {},
   "outputs": [],
   "source": [
    "confuMatrix_plot(DecisionTreeModel_cv,X_validation,y_validation)"
   ]
  },
  {
   "cell_type": "markdown",
   "id": "5b44e055",
   "metadata": {},
   "source": [
    "Random Forest CV"
   ]
  },
  {
   "cell_type": "code",
   "execution_count": null,
   "id": "04f5fe58",
   "metadata": {},
   "outputs": [],
   "source": [
    "cv_rf_params = {'max_depth': [2,3,4,5, None], \n",
    "             'min_samples_leaf': [1,2,3],\n",
    "             'min_samples_split': [2,3,4],\n",
    "             'max_features': [2,3,4],\n",
    "             'n_estimators': [75, 100, 125, 150]\n",
    "             }  "
   ]
  },
  {
   "cell_type": "code",
   "execution_count": null,
   "id": "c118d18d",
   "metadata": {},
   "outputs": [],
   "source": [
    "RandomForest_CV= GridSearchCV(modelRandomForest,cv_rf_params,scoring= scoring, cv= 5, refit= 'f1')"
   ]
  },
  {
   "cell_type": "code",
   "execution_count": null,
   "id": "c9eeeecc",
   "metadata": {},
   "outputs": [],
   "source": [
    "RandomForest_CV.fit(X_train,y_train)"
   ]
  },
  {
   "cell_type": "code",
   "execution_count": null,
   "id": "001147ba",
   "metadata": {},
   "outputs": [],
   "source": [
    "pred_rf_cv= RandomForest_CV.best_estimator_.predict(X_validation)"
   ]
  },
  {
   "cell_type": "code",
   "execution_count": null,
   "id": "f3e0e0a3",
   "metadata": {},
   "outputs": [],
   "source": [
    "results= pd.concat([results,get_test_scores('RandomForestCV',pred_rf_cv,y_validation,RandomForest_CV)],axis=0)"
   ]
  },
  {
   "cell_type": "code",
   "execution_count": null,
   "id": "561b6463",
   "metadata": {},
   "outputs": [],
   "source": [
    "confuMatrix_plot(RandomForest_CV,X_validation,y_validation)\n",
    "#4 Models with Hyperparameter Tuning using XGBoost"
   ]
  },
  {
   "cell_type": "code",
   "execution_count": null,
   "id": "baf82bb8",
   "metadata": {},
   "outputs": [],
   "source": [
    "xgb = XGBClassifier(objective= 'binary:logistic',random_state= 0)"
   ]
  },
  {
   "cell_type": "code",
   "execution_count": null,
   "id": "6f37d4b8",
   "metadata": {},
   "outputs": [],
   "source": [
    "cv_xgb_params = {'max_depth': [4,5,6,7,8], \n",
    "             'min_child_weight': [1,2,3,4,5],\n",
    "             'learning_rate': [0.1, 0.2, 0.3],\n",
    "             'n_estimators': [75, 100, 125]\n",
    "             } "
   ]
  },
  {
   "cell_type": "code",
   "execution_count": null,
   "id": "b2a1f34f",
   "metadata": {},
   "outputs": [],
   "source": [
    "xgb_cv= GridSearchCV(xgb,cv_xgb_params,scoring= scoring, cv= 5, refit='f1')"
   ]
  },
  {
   "cell_type": "code",
   "execution_count": null,
   "id": "4eeb0880",
   "metadata": {},
   "outputs": [],
   "source": [
    "xgb_cv.fit(X_train,y_train)"
   ]
  },
  {
   "cell_type": "code",
   "execution_count": null,
   "id": "3511878b",
   "metadata": {},
   "outputs": [],
   "source": [
    "plot_importance(xgb_cv.best_estimator_)"
   ]
  },
  {
   "cell_type": "code",
   "execution_count": null,
   "id": "5428ba0e",
   "metadata": {},
   "outputs": [],
   "source": [
    "confuMatrix_plot(xgb_cv,X_validation,y_validation)"
   ]
  },
  {
   "cell_type": "code",
   "execution_count": null,
   "id": "8f70bf37",
   "metadata": {},
   "outputs": [],
   "source": [
    "results= pd.concat([results,get_test_scores('XGB_CV',pred_rf_cv,y_validation,xgb_cv)],axis=0)"
   ]
  },
  {
   "cell_type": "markdown",
   "id": "71938143",
   "metadata": {
    "lines_to_next_cell": 2
   },
   "source": [
    "Now I'll search with a randomized search \n",
    "Define hyperparameter space"
   ]
  },
  {
   "cell_type": "markdown",
   "id": "ffc2c1cc",
   "metadata": {},
   "source": [
    "As we can see the most efficient models are the Random Forest Cross-validated and the XGBoost Cross-validate "
   ]
  },
  {
   "cell_type": "markdown",
   "id": "5fbd3f7e",
   "metadata": {},
   "source": [
    "We'll now go to get the most important features"
   ]
  },
  {
   "cell_type": "code",
   "execution_count": null,
   "id": "c1eab6cc",
   "metadata": {},
   "outputs": [],
   "source": [
    "importance= xgb_cv.best_estimator_.get_booster().get_score(importance_type='gain')\n",
    "indexImp= list(xgb_cv.best_estimator_.get_booster().get_score(importance_type='gain').keys())[0:9]\n",
    "valImp= list(xgb_cv.best_estimator_.get_booster().get_score(importance_type='gain').values())[0:9]\n",
    "importanceDF= pd.DataFrame(data= valImp, index=indexImp, columns=['importance']).sort_values(by='importance',ascending=False)\n",
    "importanceDF= importanceDF.rename_axis('Features').reset_index()"
   ]
  },
  {
   "cell_type": "code",
   "execution_count": null,
   "id": "eaac6a93",
   "metadata": {},
   "outputs": [],
   "source": [
    "plt.figure(figsize=(10,5))\n",
    "fig= sbn.barplot(data= importanceDF, x= 'Features', y= 'importance')\n",
    "plt.xticks(rotation= 80)\n",
    "plt.bar_label(fig.containers[0])\n",
    "plt.title('Importance of Features')\n",
    "plt.show()"
   ]
  },
  {
   "cell_type": "markdown",
   "id": "9bd9bc60",
   "metadata": {},
   "source": [
    "models. We can now use these models to make predictions on the test set."
   ]
  },
  {
   "cell_type": "code",
   "execution_count": null,
   "id": "b8c58bab",
   "metadata": {},
   "outputs": [],
   "source": [
    "test_result= []"
   ]
  },
  {
   "cell_type": "code",
   "execution_count": null,
   "id": "23fbd507",
   "metadata": {},
   "outputs": [],
   "source": [
    "decissionTree_test= get_test_scores('DecissionTree_test',modelTree.predict(X_test),y_test,modelTree)"
   ]
  },
  {
   "cell_type": "code",
   "execution_count": null,
   "id": "997f0de2",
   "metadata": {},
   "outputs": [],
   "source": [
    "randomForest_test= get_test_scores('RandomForest_test',modelRandomForest.predict(X_test),y_test,modelRandomForest)"
   ]
  },
  {
   "cell_type": "code",
   "execution_count": null,
   "id": "546ba398",
   "metadata": {},
   "outputs": [],
   "source": [
    "decissionTree_CV_test= get_test_scores('DecissionTree_CV_test',DecisionTreeModel_cv.predict(X_test),y_test,DecisionTreeModel_cv)"
   ]
  },
  {
   "cell_type": "code",
   "execution_count": null,
   "id": "bfd995ce",
   "metadata": {},
   "outputs": [],
   "source": [
    "randomForest_CV_test= get_test_scores('RandomForest_CV_test',RandomForest_CV.predict(X_test),y_test,RandomForest_CV)"
   ]
  },
  {
   "cell_type": "code",
   "execution_count": null,
   "id": "5a6d7640",
   "metadata": {
    "lines_to_next_cell": 2
   },
   "outputs": [],
   "source": [
    "xgb_test= get_test_scores(\"XGBoost_CV_test\",xgb_cv.predict(X_test),y_test,xgb_cv)"
   ]
  },
  {
   "cell_type": "code",
   "execution_count": null,
   "id": "60a924da",
   "metadata": {},
   "outputs": [],
   "source": [
    "test_result= decissionTree_test"
   ]
  },
  {
   "cell_type": "code",
   "execution_count": null,
   "id": "e8192644",
   "metadata": {},
   "outputs": [],
   "source": [
    "test_result= pd.concat([test_result,randomForest_test,decissionTree_CV_test,randomForest_CV_test,xgb_test],axis= 0)"
   ]
  },
  {
   "cell_type": "markdown",
   "id": "9eb8b2ca",
   "metadata": {},
   "source": [
    "Now we save the models just in case that we have to use it again."
   ]
  },
  {
   "cell_type": "code",
   "execution_count": null,
   "id": "2021e3f7",
   "metadata": {},
   "outputs": [],
   "source": [
    "path= './Models/'"
   ]
  },
  {
   "cell_type": "code",
   "execution_count": null,
   "id": "a80a2a88",
   "metadata": {},
   "outputs": [],
   "source": [
    "joblib.dump(modelTree,path+'modelTree.pkl')"
   ]
  },
  {
   "cell_type": "code",
   "execution_count": null,
   "id": "16bd333d",
   "metadata": {},
   "outputs": [],
   "source": [
    "joblib.dump(modelRandomForest,path+'modelRandomForest.pkl')"
   ]
  },
  {
   "cell_type": "code",
   "execution_count": null,
   "id": "933ff88b",
   "metadata": {},
   "outputs": [],
   "source": [
    "joblib.dump(DecisionTreeModel_cv,path+'DecissionTree_CV.pkl')"
   ]
  },
  {
   "cell_type": "code",
   "execution_count": null,
   "id": "e5773cd0",
   "metadata": {},
   "outputs": [],
   "source": [
    "joblib.dump(RandomForest_CV,path+'RandomForest_CV.pkl')"
   ]
  },
  {
   "cell_type": "code",
   "execution_count": null,
   "id": "5dd376ee",
   "metadata": {},
   "outputs": [],
   "source": [
    "joblib.dump(xgb_cv,path+'XGBoost_CV.pkl')"
   ]
  },
  {
   "cell_type": "code",
   "execution_count": null,
   "id": "2ee34dc2",
   "metadata": {
    "lines_to_next_cell": 2
   },
   "outputs": [],
   "source": [
    "'''\n",
    "In case that you want to load again do this:\n",
    "\n",
    "loaded_modelTree= joblib.load(path+'modelTree.pkl')\n",
    "\n",
    "loaded_modelRandomForest= joblib.load(path+'modelRandomForest.pkl')\n",
    "\n",
    "loaded_DecissionTree_CV= joblib.load(path+'DecissionTree_CV.pkl')\n",
    "\n",
    "loaded_RandomForest_CV= joblib.load(path+'RandomForest_CV.pkl')\n",
    "\n",
    "loaded_xgb_cv= joblib.load(path+'XGBoost_CV.pkl')\n",
    "\n",
    "shap.initjs()\n",
    "\n",
    "explainer= shap.Explainer(modelRandomForest.predict,X_train)\n",
    "\n",
    "shap_values= explainer.shap_values(X_test)\n",
    "\n",
    "\n",
    "shap.summary_plot(shap_values, X_test)\n",
    "\n",
    "'''"
   ]
  },
  {
   "cell_type": "code",
   "execution_count": null,
   "id": "cab09f09",
   "metadata": {},
   "outputs": [],
   "source": [
    "shap.initjs()"
   ]
  },
  {
   "cell_type": "code",
   "execution_count": null,
   "id": "772c6661",
   "metadata": {},
   "outputs": [],
   "source": [
    "explainer_xgb= shap.Explainer(xgb_cv.best_estimator_.predict,X_train)"
   ]
  },
  {
   "cell_type": "code",
   "execution_count": null,
   "id": "aa7f2773",
   "metadata": {},
   "outputs": [],
   "source": [
    "shap_values_xgb= explainer_xgb(X_test)"
   ]
  },
  {
   "cell_type": "code",
   "execution_count": null,
   "id": "ea40e416",
   "metadata": {},
   "outputs": [],
   "source": [
    "shap.summary_plot(shap_values_xgb, X_test)"
   ]
  },
  {
   "cell_type": "markdown",
   "id": "835ef728",
   "metadata": {},
   "source": [
    "In the summary we can see cleary that like in the feature importance the "
   ]
  },
  {
   "cell_type": "code",
   "execution_count": null,
   "id": "a6d4b3ee",
   "metadata": {},
   "outputs": [],
   "source": []
  },
  {
   "cell_type": "code",
   "execution_count": null,
   "id": "36e699e0",
   "metadata": {},
   "outputs": [],
   "source": []
  },
  {
   "cell_type": "code",
   "execution_count": null,
   "id": "3a2419c9",
   "metadata": {},
   "outputs": [],
   "source": []
  },
  {
   "cell_type": "code",
   "execution_count": null,
   "id": "d871bc45",
   "metadata": {},
   "outputs": [],
   "source": []
  }
 ],
 "metadata": {
  "jupytext": {
   "cell_metadata_filter": "-all",
   "main_language": "python",
   "notebook_metadata_filter": "-all"
  }
 },
 "nbformat": 4,
 "nbformat_minor": 5
}
