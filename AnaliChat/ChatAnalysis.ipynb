{
 "cells": [
  {
   "cell_type": "code",
   "execution_count": null,
   "id": "3dada7f8",
   "metadata": {},
   "outputs": [],
   "source": [
    "import pandas as pd\n",
    "import numpy as np\n",
    "import datetime as dt\n",
    "import re\n",
    "import regex \n",
    "import emoji\n",
    "from collections import Counter\n",
    "import matplotlib.pyplot as plt\n",
    "from wordcloud import WordCloud, STOPWORDS\n",
    "import seaborn as sbn  \n",
    "import matplotlib.pyplot as plt"
   ]
  },
  {
   "cell_type": "code",
   "execution_count": null,
   "id": "2c058579",
   "metadata": {
    "lines_to_next_cell": 1
   },
   "outputs": [],
   "source": [
    "def startLine(s):\n",
    "    #print(s)\n",
    "    # Ex: '02/21/2021 11:27 a. m. - ... '\n",
    "    patt = r'^([0-9]|1[0-2])(\\/)([1-9]|1[0-9]|2[0-9]|3[0-1])(\\/)([0-9][0-9]), ([0-9][0-9]+):([0-9][0-9]) - '\n",
    "    res = re.match(patt, s)  #Check if each line match with the pattern\n",
    "    if res:\n",
    "        return True\n",
    "    return False"
   ]
  },
  {
   "cell_type": "code",
   "execution_count": null,
   "id": "8b238513",
   "metadata": {
    "lines_to_next_cell": 1
   },
   "outputs": [],
   "source": [
    "# to find the Persons of the chat\n",
    "def findPerson(s):\n",
    "    \n",
    "    patts = [\n",
    "        r'([\\w]+):',                                    # Name\n",
    "        r'([\\w]+[\\s]+[\\(]+[\\w]+[\\)]+):',      # Name (Nickname)\n",
    "        r'([\\w]+[\\s]+[\\w]+):',                    # Name + Last Name\n",
    "        r'([\\w]+[\\s]+[\\w]+[\\s]+)[\\u263a-\\U0001f999]:', # Name1 + Name2 + Emoji\n",
    "        r'([\\w]+[\\s]+[\\w]+[\\s]+[\\w]+):',    # Name 1 + Name 2 + Las Name\n",
    "        r'([+]\\d{2} \\d{3} \\d{3} \\d{3}):',     # Phone Number\n",
    "        r'([\\w]+)[\\u263a-\\U0001f999]+:', # Name + Emoji            \n",
    "    ]\n",
    "    patt = '^' + '|'.join(patts)     \n",
    "    res = re.match(patt, s)   #Check if each line match with the pattern\n",
    "    if res:\n",
    "        return True\n",
    "    return False"
   ]
  },
  {
   "cell_type": "code",
   "execution_count": null,
   "id": "97dbbc00",
   "metadata": {
    "lines_to_next_cell": 1
   },
   "outputs": [],
   "source": [
    "# SPlit each part(Date,Time,Name,SMS)\n",
    "def getParts(line):   \n",
    "    # Ex: '02/21/23, 11:27 - WOW: Eooooo'\n",
    "    splitLine = line.split(' - ') \n",
    "    DateTime = splitLine[0]                     # '02/21/23 11:27 a. m.'\n",
    "    splitDateTime = DateTime.split(' ')   \n",
    "    date = splitDateTime[0]                    # '02/21/23'\n",
    "    time = ' '.join(splitDateTime[1:])          # '11:27 a. m.'\n",
    "    sms = ' '.join(splitLine[1:])             # 'WOW: Eooooo'\n",
    "    if findPerson(sms): \n",
    "        splitSMS = sms.split(': ')      \n",
    "        nameP = splitSMS[0]               # 'WOW' \n",
    "        sms = ' '.join(splitSMS[1:])    # 'Eooooo'\n",
    "    else:\n",
    "        nameP = None\n",
    "    return date, time, nameP, sms"
   ]
  },
  {
   "cell_type": "code",
   "execution_count": null,
   "id": "c3bf2b8e",
   "metadata": {
    "lines_to_next_cell": 1
   },
   "outputs": [],
   "source": [
    "def getEmojis(line):\n",
    "    emoList= ' '\n",
    "    car1= regex.findall(r'\\X',line)\n",
    "    for caracter in car1:\n",
    "        if any(c in emoji.EMOJI_DATA for c in caracter):\n",
    "            emoList= [w.replace(' ',caracter) for w in emoList]\n",
    "        pass\n",
    "    return emoList                     "
   ]
  },
  {
   "cell_type": "code",
   "execution_count": null,
   "id": "9a725615",
   "metadata": {},
   "outputs": [],
   "source": [
    "def makeDf(list_r):\n",
    "    ret_list= []\n",
    "    df_list= []\n",
    "    for x in list_r:\n",
    "        date,time,nameP,sms = None,None,None,None\n",
    "        for i in range(40113): # for in with the size of documment , you can check the size with #print(i)\n",
    "            #print(i)\n",
    "            line= x.readline() #read each line\n",
    "            if not line:\n",
    "                pass\n",
    "            if startLine(line.strip()):\n",
    "                date,time,nameP,sms= getParts(line.strip())\n",
    "                date= date.replace(',','')\n",
    "                date\n",
    "                ret_list.append([date,time,str(nameP),str(sms)])\n",
    "                \n",
    "        df_list.append(pd.DataFrame(ret_list, columns= ['Date','Time','Name','SMS']))\n",
    "    #print(startLine(line.strip()))\n",
    "    \n",
    "    if len(df_list) > 1:\n",
    "        df = pd.concat(df_list, ignore_index=True)\n",
    "    else: \n",
    "        df = df_list[0]\n",
    "        \n",
    "          \n",
    "    df['DayOfWeek']= pd.to_datetime(df['Date'], errors= 'coerce').dt.strftime('%A')\n",
    "    df['Date']= pd.to_datetime(df['Date']).dt.strftime('%m/%d/%Y')\n",
    "    df['Time']= pd.to_datetime(df['Time'],errors= 'coerce').dt.strftime('%H:%M')\n",
    "    df['URLs'] = df['SMS'].apply(lambda x: re.findall(r'(https?://\\S+)',x)).str.len()\n",
    "    df['Emojis']= (df['SMS'].apply(getEmojis)) #to add the Column Emoji with the emojis\n",
    "        \n",
    "    return df"
   ]
  },
  {
   "cell_type": "code",
   "execution_count": null,
   "id": "4eee95e3",
   "metadata": {},
   "outputs": [],
   "source": [
    "        "
   ]
  },
  {
   "cell_type": "code",
   "execution_count": null,
   "id": "a7161259",
   "metadata": {
    "lines_to_next_cell": 2
   },
   "outputs": [],
   "source": [
    "pathCht1= \"./data.txt\"\n",
    "pathCht2= \"./data2.txt\""
   ]
  },
  {
   "cell_type": "code",
   "execution_count": null,
   "id": "fc94341c",
   "metadata": {},
   "outputs": [],
   "source": [
    "f= open(pathCht1,\"r\",encoding='utf-8')\n",
    "f1= open(pathCht2,\"r\",encoding='utf-8')"
   ]
  },
  {
   "cell_type": "code",
   "execution_count": null,
   "id": "fe398382",
   "metadata": {},
   "outputs": [],
   "source": []
  },
  {
   "cell_type": "code",
   "execution_count": null,
   "id": "813e7fbe",
   "metadata": {
    "lines_to_next_cell": 2
   },
   "outputs": [],
   "source": [
    "data= makeDf([f,f1])"
   ]
  },
  {
   "cell_type": "markdown",
   "id": "00c1a509",
   "metadata": {},
   "source": [
    "#### Getting stats "
   ]
  },
  {
   "cell_type": "code",
   "execution_count": null,
   "id": "7f72ff3a",
   "metadata": {},
   "outputs": [],
   "source": [
    "totalSMS= data['SMS'].shape[0]    # Total of sms in the chat"
   ]
  },
  {
   "cell_type": "code",
   "execution_count": null,
   "id": "e7a4555a",
   "metadata": {},
   "outputs": [],
   "source": [
    "totalMedia= data[data['SMS'] == \"<Media omitted>\"].shape[0] # Total Media in the chat"
   ]
  },
  {
   "cell_type": "code",
   "execution_count": null,
   "id": "2ad6a5f2",
   "metadata": {},
   "outputs": [],
   "source": [
    "totlLink= len(data['SMS'].apply(lambda x: re.findall(r'(https?://\\S+)',x)).sum()) #total Links in the chat"
   ]
  },
  {
   "cell_type": "code",
   "execution_count": null,
   "id": "8cf81be2",
   "metadata": {},
   "outputs": [],
   "source": [
    "totalEmoji= data[data['Emojis'].apply(lambda x: ' ' not in x)].shape[0] #total emojis in the chat"
   ]
  },
  {
   "cell_type": "code",
   "execution_count": null,
   "id": "9a6f82ac",
   "metadata": {
    "lines_to_next_cell": 2
   },
   "outputs": [],
   "source": [
    "dic_sta= {'Type':[\"Total SMS\",\"Total Media\",\"Total Emojis\",\"Total Link\"],\n",
    "          'Quantity':[totalSMS,totalMedia,totalEmoji,totlLink]\n",
    "          }"
   ]
  },
  {
   "cell_type": "code",
   "execution_count": null,
   "id": "4631f045",
   "metadata": {},
   "outputs": [],
   "source": [
    "sta = pd.DataFrame(dic_sta,columns= [\"Type\",\"Quantity\"] )"
   ]
  },
  {
   "cell_type": "markdown",
   "id": "59292352",
   "metadata": {},
   "source": [
    "Plot the stats"
   ]
  },
  {
   "cell_type": "code",
   "execution_count": null,
   "id": "741e30be",
   "metadata": {},
   "outputs": [],
   "source": []
  },
  {
   "cell_type": "code",
   "execution_count": null,
   "id": "c4151c30",
   "metadata": {},
   "outputs": [],
   "source": [
    "plt.figure(figsize= (10,5))\n",
    "sbn.barplot(x= sta['Type'],y=sta['Quantity'])\n",
    "plt.show()"
   ]
  },
  {
   "cell_type": "markdown",
   "id": "874db9ac",
   "metadata": {},
   "source": [
    "Analisys of the Emojis\n",
    "the most common"
   ]
  },
  {
   "cell_type": "code",
   "execution_count": null,
   "id": "100ecfca",
   "metadata": {},
   "outputs": [],
   "source": []
  },
  {
   "cell_type": "code",
   "execution_count": null,
   "id": "3ccbd077",
   "metadata": {
    "lines_to_next_cell": 2
   },
   "outputs": [],
   "source": [
    "emoCommon= (Counter((data['Emojis']).sum())).items()"
   ]
  },
  {
   "cell_type": "code",
   "execution_count": null,
   "id": "eb423be9",
   "metadata": {},
   "outputs": [],
   "source": [
    "emojiDF= pd.DataFrame(emoCommon,columns= [\"Emoji\",\"Quantity\"]).sort_values(by=\"Quantity\",ascending=False)\n",
    "emojiDF= emojiDF[emojiDF['Emoji'].apply(lambda x : ' ' not in x)]\n",
    "#print(emojiDF)"
   ]
  },
  {
   "cell_type": "code",
   "execution_count": null,
   "id": "865e5390",
   "metadata": {
    "lines_to_next_cell": 2
   },
   "outputs": [],
   "source": [
    "####Plot the top 5 emojis.\n",
    "plt.figure(figsize= (10,5))\n",
    "sbn.barplot(x= emojiDF['Emoji'].head(),y=emojiDF['Quantity'].head())\n",
    "plt.show()\n",
    "\n",
    "    #how to know who send more SMS\n",
    "moreSMS= data.groupby(\"Name\")['SMS'].count().sort_values(ascending=False).to_frame() "
   ]
  },
  {
   "cell_type": "markdown",
   "id": "6a67d9a1",
   "metadata": {},
   "source": [
    "Divide sms with media and without"
   ]
  },
  {
   "cell_type": "code",
   "execution_count": null,
   "id": "c409219b",
   "metadata": {},
   "outputs": [],
   "source": [
    "multiData= data[data['SMS'] == \"<Media omitted>\"] #SMS with media"
   ]
  },
  {
   "cell_type": "code",
   "execution_count": null,
   "id": "a2d23613",
   "metadata": {},
   "outputs": [],
   "source": [
    "justSMS= data.drop(multiData.index) #SMS without Media"
   ]
  },
  {
   "cell_type": "code",
   "execution_count": null,
   "id": "c1fa6373",
   "metadata": {},
   "outputs": [],
   "source": [
    "justSMS['Leter']= justSMS['SMS'].apply(lambda x : len(x.replace(\" \",\"\"))) #Add Colummn Letter for stadistic"
   ]
  },
  {
   "cell_type": "code",
   "execution_count": null,
   "id": "aac8d7aa",
   "metadata": {
    "lines_to_next_cell": 2
   },
   "outputs": [],
   "source": [
    "justSMS['Word']= justSMS['SMS'].apply(lambda x : len(x.split(' '))) #Add Column Word for stadistics"
   ]
  },
  {
   "cell_type": "markdown",
   "id": "c3b1f1a0",
   "metadata": {},
   "source": [
    "Stadistics of the chat"
   ]
  },
  {
   "cell_type": "markdown",
   "id": "c7274589",
   "metadata": {},
   "source": [
    "Mosts actives days"
   ]
  },
  {
   "cell_type": "code",
   "execution_count": null,
   "id": "0f3806f6",
   "metadata": {},
   "outputs": [],
   "source": [
    "actDays= data['Date'].value_counts().head(10) #the top 10 of most actives days"
   ]
  },
  {
   "cell_type": "markdown",
   "id": "0929a79e",
   "metadata": {},
   "source": [
    "graph"
   ]
  },
  {
   "cell_type": "markdown",
   "id": "c43239ab",
   "metadata": {},
   "source": [
    "actDays.plot.bar()"
   ]
  },
  {
   "cell_type": "markdown",
   "id": "0f40976b",
   "metadata": {},
   "source": [
    "plt.show()"
   ]
  },
  {
   "cell_type": "markdown",
   "id": "09016e32",
   "metadata": {},
   "source": [
    "Words per day mean"
   ]
  },
  {
   "cell_type": "code",
   "execution_count": null,
   "id": "bed6f4cc",
   "metadata": {},
   "outputs": [],
   "source": [
    "wPerD= int(data['Date'].value_counts().sum()/len(data['Date'].value_counts()))"
   ]
  },
  {
   "cell_type": "markdown",
   "id": "13e843b1",
   "metadata": {},
   "source": [
    "top 10 of most actives hours"
   ]
  },
  {
   "cell_type": "code",
   "execution_count": null,
   "id": "8947df3b",
   "metadata": {},
   "outputs": [],
   "source": [
    "actHours= data['Time'].value_counts().head(10)"
   ]
  },
  {
   "cell_type": "markdown",
   "id": "b7aae990",
   "metadata": {},
   "source": [
    "actHours.plot()\n",
    "actHours.plot.bar()"
   ]
  },
  {
   "cell_type": "code",
   "execution_count": null,
   "id": "3405330a",
   "metadata": {},
   "outputs": [],
   "source": [
    "'''\n",
    "\n",
    "stopwords = STOPWORDS.update(['siempre','dije','mismo','ella','bien','vas','dice','bueno','','q','d','cuando','ver','ir','ver','vi','ve','quien','cosa','iba','porque','oye','cosas','soy','ha','p9r','mal','iba','ahora','voy','vez','nada','pa','xq','okok','ok','ni','fue','ta','ti','ay',\n",
    "                              'da','x','tan','van','da','ño','sé','que', 'qué', 'con', 'de', 'te', 'en', 'la', 'lo', 'le', 'el', 'las', 'los', 'les', 'por', 'es', \n",
    "                                                         'son', 'se', 'para', 'un', 'una', 'chicos', 'su', 'si', 'chic', 'nos', 'ya', 'hay', 'esta', \n",
    "                                                         'pero', 'del', 'mas', 'más', 'eso', 'este', 'como', 'así', 'todo', 'https', 'tu', 'y', 'al',\n",
    "                                                         'mi', 'tus', 'esa', 'o', 'sus', 'tiene', 'también', 'tambien', 'sea', 'esos', 'esto', 'ese',\n",
    "                                                         'uno', 'ahi', 'ahí', 'va', 'está', 'yo', 'tenga', 'ser', 'otra', 'otro', 'mis', 'han'])\n",
    "\n",
    "\n",
    "ListCloud= \"\"\n",
    "\n",
    "for i in justSMS['SMS']:\n",
    "    words= str(i).lower().split()\n",
    "    for j in words:\n",
    "        ListCloud= ListCloud + j + ' '\n",
    "        \n",
    "worldcloud= WordCloud(width= 1000, height= 800,\n",
    "                      background_color='white',stopwords=stopwords,min_font_size=10).generate(ListCloud)\n",
    "\n",
    "worldcloud.to_image()\n",
    "\n",
    "'''\n",
    "#how many sms send each one"
   ]
  },
  {
   "cell_type": "code",
   "execution_count": null,
   "id": "ab6274bd",
   "metadata": {},
   "outputs": [],
   "source": [
    "eSMS= data.groupby(['Name'])['SMS'].count()"
   ]
  },
  {
   "cell_type": "code",
   "execution_count": null,
   "id": "32e63702",
   "metadata": {},
   "outputs": [],
   "source": [
    "data['#SMS']= 1"
   ]
  },
  {
   "cell_type": "code",
   "execution_count": null,
   "id": "32fe49b8",
   "metadata": {},
   "outputs": [],
   "source": [
    "dateD= data.groupby('Date').sum()\n",
    "dateD.reset_index(inplace=True)"
   ]
  },
  {
   "cell_type": "markdown",
   "id": "7bb81101",
   "metadata": {},
   "source": [
    "data['Time']= pd.to_datetime(data['Time'], format= '%H:%M' , errors= 'coerce' , utc= True).dt.strftime('%H:%M')\n",
    "data['rat']= data['Time'].apply(lambda x: x.time)"
   ]
  },
  {
   "cell_type": "markdown",
   "id": "b198a2b7",
   "metadata": {},
   "source": [
    "data.to_csv(\"dataC1\", index= False)"
   ]
  }
 ],
 "metadata": {
  "jupytext": {
   "cell_metadata_filter": "-all",
   "main_language": "python",
   "notebook_metadata_filter": "-all"
  }
 },
 "nbformat": 4,
 "nbformat_minor": 5
}
